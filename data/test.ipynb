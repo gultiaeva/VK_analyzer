{
 "cells": [
  {
   "cell_type": "code",
   "execution_count": 16,
   "metadata": {},
   "outputs": [],
   "source": [
    "import os\n",
    "import io\n",
    "import mimetypes\n",
    "from zipfile import ZipFile\n",
    "import re\n",
    "from datetime import datetime\n",
    "\n",
    "\n",
    "class Message:\n",
    "    def __init__(self, first_name, last_name, nickname, dt, text):\n",
    "        self.first_name = first_name\n",
    "        self.last_name = last_name\n",
    "        self.nickname = nickname\n",
    "        self.dt = datetime.strptime(dt, '%H:%M:%S %d/%m/%Y')\n",
    "        self.year = self.dt.year\n",
    "        self.month = self.dt.month\n",
    "        self.day = self.dt.day\n",
    "        self.hour = self.dt.hour\n",
    "        self.minute = self.dt.minute\n",
    "        self.second = self.dt.second\n",
    "        self.day_of_week = self.dt.weekday()\n",
    "        self.__parse_message(text)\n",
    "\n",
    "        \n",
    "\n",
    "    def __parse_message(self):\n",
    "        # TODO: Тип сообщения (приглашение/ответ/пересланное/обычное/что-то еще)\n",
    "        # TODO: Содержит ли сообщение фотку\n",
    "        # TODO: Содержит ли сообщение ссылку\n",
    "        # TODO: придумать еще какие-нибудь атрибуты для сообщений\n",
    "        pass\n",
    "\n",
    "\n",
    "    def as_dict(self):\n",
    "        return {'first_name': self.first_name, \n",
    "                'last_name': self.last_name, \n",
    "                'nickname': self.nickname,\n",
    "                'year': self.dt.year,\n",
    "                'month': self.dt.month,\n",
    "                'day': self.dt.day,\n",
    "                'hour': self.dt.hour,\n",
    "                'minute': self.dt.minute,\n",
    "                'text': self.text}\n",
    "\n",
    "    def __str__(self):\n",
    "        return f\"{self.first_name} {self.last_name} wrote {self.text} at {self.dt.strftime('%d-%m-%Y %H:%M:%S')}\"\n",
    "\n",
    "    def __repr__(self):\n",
    "        return f\"{self.first_name} {self.last_name}'s message at {self.dt.strftime('%d-%m-%Y %H:%M:%S')}\"\n",
    "\n",
    "\n",
    "class Reader:\n",
    "    def __init__(self, path_to_data):\n",
    "        \n",
    "\n",
    "        self.path_to_data = path_to_data\n",
    "        self.messages = []\n",
    "        self.__parse_archive()\n",
    "        \n",
    "\n",
    "    def __check_file(self):\n",
    "        # TODO: Сделать проверку на архив или текстовый файл\n",
    "        # TODO: Сделать проверку на неправильный файл\n",
    "        pass\n",
    "\n",
    "\n",
    "    def __parse_archive(self):\n",
    "        with ZipFile(self.path_to_data, 'r') as zipObj:\n",
    "            for elem in zipObj.namelist():\n",
    "                with io.TextIOWrapper(zipObj.open(elem), encoding=\"utf-8\") as f:\n",
    "                    self.__split_file_by_msg(f)\n",
    "\n",
    "    def __split_file_by_msg(self, fd):\n",
    "        text = []\n",
    "        first = True\n",
    "        for line in fd.readlines():\n",
    "            if re.fullmatch(r'^\\S.+\\[\\w+\\]\\s\\(\\d{2}:\\d{2}:\\d{2}\\s+\\d{2}/\\d{2}/\\d{4}\\):\\n$', line):\n",
    "                if not first:\n",
    "                    msg = Message(first_name, last_name, nickname, dt, '\\n'.join(text))\n",
    "                    self.messages.append(msg)\n",
    "                    text = []\n",
    "                else:\n",
    "                    first = False\n",
    "                splitted = line.split()\n",
    "                if len(splitted) == 5:\n",
    "                    first_name = splitted[0]\n",
    "                    last_name = splitted[1]\n",
    "                elif len(splitted) == 4:\n",
    "                    first_name = splitted[0]\n",
    "                    last_name = None\n",
    "                nickname = splitted[-3][1:-1]\n",
    "                dt = splitted[-2][1:] + ' ' + splitted[-1][:-2]\n",
    "                continue\n",
    "            \n",
    "            text.append(line)"
   ]
  },
  {
   "cell_type": "code",
   "execution_count": 17,
   "metadata": {},
   "outputs": [],
   "source": [
    "rdr = Reader('C16-702 тру групп.zip')"
   ]
  },
  {
   "cell_type": "code",
   "execution_count": 18,
   "metadata": {},
   "outputs": [],
   "source": [
    "import re \n",
    "  \n",
    "def find_url(string): \n",
    "    regex = re.compile(\n",
    "        r'^(?:http|ftp)s?://' # http:// or https://\n",
    "        r'(?:(?:[A-Z0-9](?:[A-Z0-9-]{0,61}[A-Z0-9])?\\.)+(?:[A-Z]{2,6}\\.?|[A-Z0-9-]{2,}\\.?)|' #domain...\n",
    "        r'localhost|' #localhost...\n",
    "        r'\\d{1,3}\\.\\d{1,3}\\.\\d{1,3}\\.\\d{1,3})' # ...or ip\n",
    "        r'(?::\\d+)?' # optional port\n",
    "        r'(?:/?|[/?]\\S+)$', re.IGNORECASE)\n",
    "\n",
    "    url = re.findall(regex, string)       \n",
    "    return [x[0] for x in url] "
   ]
  },
  {
   "cell_type": "code",
   "execution_count": 22,
   "metadata": {},
   "outputs": [],
   "source": [
    "import numpy as np\n",
    "import pandas as pd"
   ]
  },
  {
   "cell_type": "code",
   "execution_count": 23,
   "metadata": {},
   "outputs": [
    {
     "output_type": "execute_result",
     "data": {
      "text/plain": "      first_name   last_name          nickname  year  month  day  hour  \\\n0          Денис  Колесников       id185184434  2016      9   15    16   \n1          Денис  Колесников       id185184434  2016      9   15    16   \n2          Денис  Колесников       id185184434  2016      9   15    16   \n3      Александр      Гридин          alexqrid  2016      9   15    19   \n4      Александр      Гридин          alexqrid  2016      9   15    19   \n...          ...         ...               ...   ...    ...  ...   ...   \n49469       Илья     Филатов     ilya_filatovv  2020      6   13    11   \n49470     Никита       Шубин       id185727944  2020      6   13    11   \n49471  Владислав       Файль            vf__21  2020      6   13    11   \n49472      Артём      Наумов  just_awesome_guy  2020      6   13    12   \n49473     Никита       Шубин       id185727944  2020      6   13    12   \n\n       minute                                               text  \n0           7  \\n\\nchat_invite_user | Андрей Гультяев [angult...  \n1           7  \\n\\nchat_invite_user | Владислав Файль [vf__21...  \n2           7  \\n\\nchat_invite_user | Ерназар Искаков [id1582...  \n3          19                                         \\n\\n\\n\\n\\n  \n4          19  первая подгруппа по англ советую всем на лингу...  \n...       ...                                                ...  \n49469      41        А физру вот не прогуливал в школе\\n\\n\\n\\n\\n  \n49470      42  \\tСофья Емцева [id77761992] (11:41:23  13/06/2...  \n49471      45  \\tНикита Шубин [id185727944] (11:42:22  13/06/...  \n49472      18      Есть итоговая ведомость с оценками?\\n\\n\\n\\n\\n  \n49473      48                                 У тебя А\\n\\n\\n\\n\\n  \n\n[49474 rows x 9 columns]",
      "text/html": "<div>\n<style scoped>\n    .dataframe tbody tr th:only-of-type {\n        vertical-align: middle;\n    }\n\n    .dataframe tbody tr th {\n        vertical-align: top;\n    }\n\n    .dataframe thead th {\n        text-align: right;\n    }\n</style>\n<table border=\"1\" class=\"dataframe\">\n  <thead>\n    <tr style=\"text-align: right;\">\n      <th></th>\n      <th>first_name</th>\n      <th>last_name</th>\n      <th>nickname</th>\n      <th>year</th>\n      <th>month</th>\n      <th>day</th>\n      <th>hour</th>\n      <th>minute</th>\n      <th>text</th>\n    </tr>\n  </thead>\n  <tbody>\n    <tr>\n      <th>0</th>\n      <td>Денис</td>\n      <td>Колесников</td>\n      <td>id185184434</td>\n      <td>2016</td>\n      <td>9</td>\n      <td>15</td>\n      <td>16</td>\n      <td>7</td>\n      <td>\\n\\nchat_invite_user | Андрей Гультяев [angult...</td>\n    </tr>\n    <tr>\n      <th>1</th>\n      <td>Денис</td>\n      <td>Колесников</td>\n      <td>id185184434</td>\n      <td>2016</td>\n      <td>9</td>\n      <td>15</td>\n      <td>16</td>\n      <td>7</td>\n      <td>\\n\\nchat_invite_user | Владислав Файль [vf__21...</td>\n    </tr>\n    <tr>\n      <th>2</th>\n      <td>Денис</td>\n      <td>Колесников</td>\n      <td>id185184434</td>\n      <td>2016</td>\n      <td>9</td>\n      <td>15</td>\n      <td>16</td>\n      <td>7</td>\n      <td>\\n\\nchat_invite_user | Ерназар Искаков [id1582...</td>\n    </tr>\n    <tr>\n      <th>3</th>\n      <td>Александр</td>\n      <td>Гридин</td>\n      <td>alexqrid</td>\n      <td>2016</td>\n      <td>9</td>\n      <td>15</td>\n      <td>19</td>\n      <td>19</td>\n      <td>\\n\\n\\n\\n\\n</td>\n    </tr>\n    <tr>\n      <th>4</th>\n      <td>Александр</td>\n      <td>Гридин</td>\n      <td>alexqrid</td>\n      <td>2016</td>\n      <td>9</td>\n      <td>15</td>\n      <td>19</td>\n      <td>19</td>\n      <td>первая подгруппа по англ советую всем на лингу...</td>\n    </tr>\n    <tr>\n      <th>...</th>\n      <td>...</td>\n      <td>...</td>\n      <td>...</td>\n      <td>...</td>\n      <td>...</td>\n      <td>...</td>\n      <td>...</td>\n      <td>...</td>\n      <td>...</td>\n    </tr>\n    <tr>\n      <th>49469</th>\n      <td>Илья</td>\n      <td>Филатов</td>\n      <td>ilya_filatovv</td>\n      <td>2020</td>\n      <td>6</td>\n      <td>13</td>\n      <td>11</td>\n      <td>41</td>\n      <td>А физру вот не прогуливал в школе\\n\\n\\n\\n\\n</td>\n    </tr>\n    <tr>\n      <th>49470</th>\n      <td>Никита</td>\n      <td>Шубин</td>\n      <td>id185727944</td>\n      <td>2020</td>\n      <td>6</td>\n      <td>13</td>\n      <td>11</td>\n      <td>42</td>\n      <td>\\tСофья Емцева [id77761992] (11:41:23  13/06/2...</td>\n    </tr>\n    <tr>\n      <th>49471</th>\n      <td>Владислав</td>\n      <td>Файль</td>\n      <td>vf__21</td>\n      <td>2020</td>\n      <td>6</td>\n      <td>13</td>\n      <td>11</td>\n      <td>45</td>\n      <td>\\tНикита Шубин [id185727944] (11:42:22  13/06/...</td>\n    </tr>\n    <tr>\n      <th>49472</th>\n      <td>Артём</td>\n      <td>Наумов</td>\n      <td>just_awesome_guy</td>\n      <td>2020</td>\n      <td>6</td>\n      <td>13</td>\n      <td>12</td>\n      <td>18</td>\n      <td>Есть итоговая ведомость с оценками?\\n\\n\\n\\n\\n</td>\n    </tr>\n    <tr>\n      <th>49473</th>\n      <td>Никита</td>\n      <td>Шубин</td>\n      <td>id185727944</td>\n      <td>2020</td>\n      <td>6</td>\n      <td>13</td>\n      <td>12</td>\n      <td>48</td>\n      <td>У тебя А\\n\\n\\n\\n\\n</td>\n    </tr>\n  </tbody>\n</table>\n<p>49474 rows × 9 columns</p>\n</div>"
     },
     "metadata": {},
     "execution_count": 23
    }
   ],
   "source": [
    "pd.DataFrame(map(lambda x: x.as_dict(), rdr.messages))"
   ]
  },
  {
   "cell_type": "code",
   "execution_count": null,
   "metadata": {},
   "outputs": [],
   "source": []
  }
 ],
 "metadata": {
  "language_info": {
   "codemirror_mode": {
    "name": "ipython",
    "version": 3
   },
   "file_extension": ".py",
   "mimetype": "text/x-python",
   "name": "python",
   "nbconvert_exporter": "python",
   "pygments_lexer": "ipython3",
   "version": "3.7.6-final"
  },
  "orig_nbformat": 2,
  "kernelspec": {
   "name": "python37664bitenvvenvc59f8f1a2c0c4979b134dd3d2bb2fd49",
   "display_name": "Python 3.7.6 64-bit ('env': venv)"
  }
 },
 "nbformat": 4,
 "nbformat_minor": 2
}